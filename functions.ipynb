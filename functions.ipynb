{
 "cells": [
  {
   "cell_type": "markdown",
   "metadata": {},
   "source": [
    "Functions"
   ]
  },
  {
   "cell_type": "code",
   "execution_count": 1,
   "metadata": {},
   "outputs": [
    {
     "name": "stdout",
     "output_type": "stream",
     "text": [
      "[1, 4, 9, 16, 25, 36, 49, 64, 81, 100]\n",
      "[1, 4, 9, 16, 25, 36, 49, 64, 81, 100]\n"
     ]
    }
   ],
   "source": [
    "#using list comprehension\n",
    "lst1 = [i**2 for i in range(1, 11)]\n",
    "print(lst1)\n",
    "\n",
    "#using lambda and map\n",
    "lst2 = list(map(lambda x : x*x, range(1, 11)))\n",
    "print(lst2)"
   ]
  },
  {
   "cell_type": "code",
   "execution_count": 2,
   "metadata": {},
   "outputs": [
    {
     "name": "stdout",
     "output_type": "stream",
     "text": [
      "120\n"
     ]
    }
   ],
   "source": [
    "from functools import reduce\n",
    "rslt = reduce(lambda x,y : x * y, range(1, 6))\n",
    "print(rslt)"
   ]
  },
  {
   "cell_type": "code",
   "execution_count": 3,
   "metadata": {},
   "outputs": [
    {
     "name": "stdout",
     "output_type": "stream",
     "text": [
      "['test1', 'test2', 'opp', 'hap', 'p', 'name']\n"
     ]
    }
   ],
   "source": [
    "file_names = \"test1.py test2.py opp.py hap.py p.py f.txt ot.jpg dice.cpp fish.ai name.py alligator.java try.c 3d.stl\"\n",
    "lst = [s[:len(s)-3] for s in file_names.split() if s[len(s)-3:] == '.py']\n",
    "print(lst)"
   ]
  }
 ],
 "metadata": {
  "kernelspec": {
   "display_name": "Python 3",
   "language": "python",
   "name": "python3"
  },
  "language_info": {
   "codemirror_mode": {
    "name": "ipython",
    "version": 3
   },
   "file_extension": ".py",
   "mimetype": "text/x-python",
   "name": "python",
   "nbconvert_exporter": "python",
   "pygments_lexer": "ipython3",
   "version": "3.7.1"
  }
 },
 "nbformat": 4,
 "nbformat_minor": 2
}
